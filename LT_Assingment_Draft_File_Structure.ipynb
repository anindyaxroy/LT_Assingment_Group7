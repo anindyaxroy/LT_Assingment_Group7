{
 "cells": [
  {
   "cell_type": "markdown",
   "id": "659ab6fa",
   "metadata": {},
   "source": [
    "# MBA AI - Language Technology Group Assignment 2025\n",
    "**Course**: Language Technology  \n",
    "**Team Members**:  \n",
    "**Date**:  \n",
    "\n",
    "---\n",
    "\n",
    "## 🚀 Table of Contents\n",
    "1. [Lexical Representations & Vocabulary](#section1)\n",
    "2. [Named Entity Recognition and Entity Analysis](#section2)\n",
    "3. [Question Answering with Transformers](#section3)\n",
    "4. [RAG-Based Football Chatbot](#section4)\n",
    "\n",
    "---"
   ]
  },
  {
   "cell_type": "markdown",
   "id": "4acfad77",
   "metadata": {},
   "source": [
    "<a id=\"section1\"></a>\n",
    "# 1. Lexical Representations & Vocabulary"
   ]
  },
  {
   "cell_type": "markdown",
   "id": "6c12b6cc",
   "metadata": {},
   "source": [
    "# 📥 Load Amazon Reviews dataset\n",
    "# amazon-reviews.parquet\n",
    "\n",
    "# 📦 Import CountVectorizer and TfidfVectorizer from sklearn\n",
    "\n",
    "# ✅ Q1: Preprocessing — lowercase + lemmatization using SpaCy\n",
    "# → Calculate vocabulary size"
   ]
  },
  {
   "cell_type": "code",
   "execution_count": null,
   "id": "44f3d008",
   "metadata": {},
   "outputs": [],
   "source": []
  },
  {
   "cell_type": "markdown",
   "id": "13220206",
   "metadata": {},
   "source": [
    "# ✅ Q2: Binary Classification Model\n",
    "# → Filter for 50,000 samples\n",
    "# → Transform score into binary label (5 vs. others)\n",
    "# → 2-stage pipeline: TFIDF + Logistic Regression\n",
    "# → Hyperparameter exploration"
   ]
  },
  {
   "cell_type": "code",
   "execution_count": null,
   "id": "aca369ae",
   "metadata": {},
   "outputs": [],
   "source": []
  },
  {
   "cell_type": "markdown",
   "id": "9a58f084",
   "metadata": {},
   "source": [
    "<a id=\"section2\"></a>\n",
    "# 2. Named Entity Recognition and Entity Analysis"
   ]
  },
  {
   "cell_type": "markdown",
   "id": "3ee88964",
   "metadata": {},
   "source": [
    "# 📥 Load Malawi dataset\n",
    "# malawi.parquet\n",
    "\n",
    "# 🧠 Use SpaCy for NER with en_core_web_sm\n",
    "\n",
    "# ✅ Q1: Dataframe of Entity Categories + Frequencies\n",
    "\n",
    "# ✅ Q2: Top 10 Mentioned Persons (VIPs)\n",
    "# → Normalize by lowercase\n",
    "# → Group and count mentions\n",
    "# → Analysis notes in markdown"
   ]
  },
  {
   "cell_type": "code",
   "execution_count": null,
   "id": "d05fe0fa",
   "metadata": {},
   "outputs": [],
   "source": []
  },
  {
   "cell_type": "markdown",
   "id": "5f00e46f",
   "metadata": {},
   "source": [
    "<a id=\"section3\"></a>\n",
    "# 3. Question Answering with Transformers"
   ]
  },
  {
   "cell_type": "markdown",
   "id": "330bec57",
   "metadata": {},
   "source": [
    "# 📄 Load article: BERT.txt\n",
    "\n",
    "# ✂️ Chunk into two-sentence pieces\n",
    "# 🧬 Embed chunks using sentence-transformers (multi-qa-mpnet-base-cos-v1)\n",
    "\n",
    "# 🔍 Define questions and calculate similarity\n",
    "# → If similarity < 0.3, respond with fallback\n",
    "\n",
    "# 📚 Apply two QA models:\n",
    "# - distilbert/distilbert-base-cased-distilled-squad\n",
    "# - deepset/tinyroberta-squad2\n",
    "\n",
    "# 📝 Answer Table + Comments on results"
   ]
  },
  {
   "cell_type": "code",
   "execution_count": null,
   "id": "6cb03b54",
   "metadata": {},
   "outputs": [],
   "source": []
  },
  {
   "cell_type": "markdown",
   "id": "764d1f47",
   "metadata": {},
   "source": [
    "<a id=\"section4\"></a>\n",
    "# 4. RAG-Based Football Chatbot"
   ]
  },
  {
   "cell_type": "markdown",
   "id": "2d43f9eb",
   "metadata": {},
   "source": [
    "# ⚙️ Load LLM_endpoint_STUDENT.ipynb components\n",
    "# 🧠 Setup system prompt to filter for football-related queries\n",
    "\n",
    "# 🔁 Prompt engineering: Separate question from formatting\n",
    "# 🔎 Rephrase + retrieve relevant chunks using Milvus\n",
    "\n",
    "# 🧵 Use LLM + retrieved context to respond to user questions\n",
    "# ➕ Cite sources in output\n",
    "\n",
    "# 🧐 Reflection on:\n",
    "# - Language variations\n",
    "# - Tone, structure, clarity"
   ]
  },
  {
   "cell_type": "code",
   "execution_count": null,
   "id": "35bef310",
   "metadata": {},
   "outputs": [],
   "source": []
  }
 ],
 "metadata": {
  "language_info": {
   "name": "python"
  }
 },
 "nbformat": 4,
 "nbformat_minor": 5
}
